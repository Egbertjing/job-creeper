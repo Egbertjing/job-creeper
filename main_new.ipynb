{
 "cells": [
  {
   "cell_type": "code",
   "execution_count": 1,
   "metadata": {},
   "outputs": [],
   "source": [
    "import pandas as PD\n",
    "import numpy as NP\n",
    "import requests\n",
    "from bs4 import BeautifulSoup\n",
    "from selenium import webdriver  \n",
    "from selenium.common.exceptions import TimeoutException \n",
    "# import ActionChains mouse operation  \n",
    "from selenium.webdriver.common.action_chains import ActionChains \n",
    "\n",
    "from selenium.webdriver.chrome.options import Options\n",
    "import time\n",
    "from lxml import etree"
   ]
  },
  {
   "cell_type": "code",
   "execution_count": 23,
   "metadata": {},
   "outputs": [],
   "source": [
    "def get_html(number):\n",
    "    try:\n",
    "        chrome_options=Options()\n",
    "        chrome_options.add_argument('--headless')\n",
    "        driver= webdriver.Chrome(chrome_options=chrome_options)  \n",
    "        driver.get('https://t.me/stablegram/' + str(number))\n",
    "        # temp_height=0\n",
    " \n",
    "        # while True:\n",
    "        #     #循环将滚动条下拉\n",
    "        #     driver.execute_script(\"window.scrollBy(0,100000)\")\n",
    "        #     #sleep一下让滚动条反应一下\n",
    "        #     time.sleep(5)\n",
    "        #     #获取当前滚动条距离顶部的距离\n",
    "        #     check_height = driver.execute_script(\"return document.documentElement.scrollTop || window.pageYOffset || document.body.scrollTop;\")\n",
    "        #     #如果两者相等说明到底了\n",
    "        #     if check_height==temp_height:\n",
    "        #         break\n",
    "        #     temp_height=check_height\n",
    "        #     print('*****Processing temp_height = {temp_height}*****'.format(temp_height=temp_height))\n",
    "        # print('done')\n",
    "        page = driver.page_source\n",
    "        source = page.encode(\"utf8\")\n",
    "        soup_list = BeautifulSoup(source, 'lxml')\n",
    "        return soup_list\n",
    "    except:\n",
    "        return \"ERROR\""
   ]
  },
  {
   "cell_type": "code",
   "execution_count": 28,
   "metadata": {},
   "outputs": [],
   "source": [
    "def get_url(number):\n",
    "    try:\n",
    "        response  = requests.get('https://t.me/stablegram/' + str(number))\n",
    "        response.encoding=\"utf-8\"\n",
    "        source = response.text\n",
    "        content = BeautifulSoup(source, 'lxml')\n",
    "        return content.find_all('meta')[5]\n",
    "    except:\n",
    "        return \"ERROR\""
   ]
  },
  {
   "cell_type": "code",
   "execution_count": 29,
   "metadata": {},
   "outputs": [],
   "source": [
    "source = get_url(430)"
   ]
  },
  {
   "cell_type": "code",
   "execution_count": 30,
   "metadata": {},
   "outputs": [
    {
     "name": "stdout",
     "output_type": "stream",
     "text": [
      "<meta content=\"Boson Protocol enables the tokenization, transfer and trade of any physical thing as a redeemable NFT.\n",
      "\n",
      "Position: Quality Assurance Analyst\n",
      "\n",
      "🌎 Remote\n",
      "\n",
      "You need:\n",
      "— Web3 testing experience\n",
      "— Test Automation\n",
      "— Experience in Agile ways of working\n",
      "— Systems thinking combined with a focus on detail\n",
      "— Experience supporting Development teams to shape their work at the outset\n",
      "\n",
      "Contact: Apply\n",
      "\n",
      "⚡️Mention @stablegram when you apply for this job\" property=\"og:description\"/>\n"
     ]
    }
   ],
   "source": [
    "print(source)"
   ]
  },
  {
   "cell_type": "code",
   "execution_count": null,
   "metadata": {},
   "outputs": [],
   "source": [
    "number_list = []\n",
    "\n",
    "for index in range(73,431):\n",
    "    number_list.append(index)\n",
    "    \n",
    "    "
   ]
  }
 ],
 "metadata": {
  "kernelspec": {
   "display_name": "deg",
   "language": "python",
   "name": "python3"
  },
  "language_info": {
   "codemirror_mode": {
    "name": "ipython",
    "version": 3
   },
   "file_extension": ".py",
   "mimetype": "text/x-python",
   "name": "python",
   "nbconvert_exporter": "python",
   "pygments_lexer": "ipython3",
   "version": "3.10.8"
  },
  "orig_nbformat": 4,
  "vscode": {
   "interpreter": {
    "hash": "a10c7ff833cd258db03f4dddaa328fa7efa8249840dd32d59773f308d465ac00"
   }
  }
 },
 "nbformat": 4,
 "nbformat_minor": 2
}
